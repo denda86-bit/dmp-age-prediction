{
 "cells": [
  {
   "cell_type": "code",
   "execution_count": 1,
   "metadata": {},
   "outputs": [],
   "source": [
    "import os\n",
    "import pandas as pd\n",
    "from scipy import stats\n",
    "import numpy as np\n",
    "from math import sqrt\n",
    "import matplotlib.pyplot as plt\n",
    "import seaborn as sn\n",
    "from sklearn import preprocessing"
   ]
  },
  {
   "cell_type": "markdown",
   "metadata": {},
   "source": [
    "# Inspection of data"
   ]
  },
  {
   "cell_type": "code",
   "execution_count": 2,
   "metadata": {},
   "outputs": [],
   "source": [
    "def load_data(filename):\n",
    "    \"\"\"\n",
    "    It loads the data from the csv file to a pandas Dataframe.\n",
    "    :param filename: str\n",
    "    :return: pandas Dataframe\n",
    "    \"\"\"\n",
    "    parent_dir = os.getcwd()\n",
    "    df = pd.read_csv(os.path.join(parent_dir, filename))\n",
    "\n",
    "    return df"
   ]
  },
  {
   "cell_type": "code",
   "execution_count": 3,
   "metadata": {},
   "outputs": [],
   "source": [
    "filename_train = 'ds_dmp_task_1_take_home.csv'\n",
    "df_train = load_data(filename=filename_train)"
   ]
  },
  {
   "cell_type": "code",
   "execution_count": 4,
   "metadata": {},
   "outputs": [
    {
     "data": {
      "text/html": [
       "<div>\n",
       "<style scoped>\n",
       "    .dataframe tbody tr th:only-of-type {\n",
       "        vertical-align: middle;\n",
       "    }\n",
       "\n",
       "    .dataframe tbody tr th {\n",
       "        vertical-align: top;\n",
       "    }\n",
       "\n",
       "    .dataframe thead th {\n",
       "        text-align: right;\n",
       "    }\n",
       "</style>\n",
       "<table border=\"1\" class=\"dataframe\">\n",
       "  <thead>\n",
       "    <tr style=\"text-align: right;\">\n",
       "      <th></th>\n",
       "      <th>user</th>\n",
       "      <th>provider</th>\n",
       "      <th>age</th>\n",
       "      <th>url</th>\n",
       "      <th>ua</th>\n",
       "      <th>city</th>\n",
       "    </tr>\n",
       "  </thead>\n",
       "  <tbody>\n",
       "    <tr>\n",
       "      <td>0</td>\n",
       "      <td>user3</td>\n",
       "      <td>provider1</td>\n",
       "      <td>60+</td>\n",
       "      <td>https://www.domain763.de/panorama/id_84336484/...</td>\n",
       "      <td>Mozilla/5.0 (Linux; Android 6.0.1; SM-G903F Bu...</td>\n",
       "      <td>dortmund</td>\n",
       "    </tr>\n",
       "    <tr>\n",
       "      <td>1</td>\n",
       "      <td>user3</td>\n",
       "      <td>provider1</td>\n",
       "      <td>60+</td>\n",
       "      <td>https://www.domain763.de/panorama/id_84336484/...</td>\n",
       "      <td>Mozilla/5.0 (Linux; Android 6.0.1; SM-G903F Bu...</td>\n",
       "      <td>dortmund</td>\n",
       "    </tr>\n",
       "    <tr>\n",
       "      <td>2</td>\n",
       "      <td>user10</td>\n",
       "      <td>provider2</td>\n",
       "      <td>50-59</td>\n",
       "      <td>https://dlvr.domain763.de/static/lisa/placemen...</td>\n",
       "      <td>Mozilla/5.0 (Windows NT 10.0; Win64; x64) Appl...</td>\n",
       "      <td>althengstett</td>\n",
       "    </tr>\n",
       "    <tr>\n",
       "      <td>3</td>\n",
       "      <td>user28</td>\n",
       "      <td>provider1</td>\n",
       "      <td>30-39</td>\n",
       "      <td>https://www.domain235.de/testsieger/level3_far...</td>\n",
       "      <td>Mozilla/5.0 (Windows NT 10.0; WOW64; Trident/7...</td>\n",
       "      <td>NaN</td>\n",
       "    </tr>\n",
       "    <tr>\n",
       "      <td>4</td>\n",
       "      <td>user71</td>\n",
       "      <td>provider2</td>\n",
       "      <td>40-49</td>\n",
       "      <td>https://www.domain763.de/</td>\n",
       "      <td>Mozilla/5.0 (Windows NT 10.0; WOW64; Trident/7...</td>\n",
       "      <td>NaN</td>\n",
       "    </tr>\n",
       "  </tbody>\n",
       "</table>\n",
       "</div>"
      ],
      "text/plain": [
       "     user   provider    age  \\\n",
       "0   user3  provider1    60+   \n",
       "1   user3  provider1    60+   \n",
       "2  user10  provider2  50-59   \n",
       "3  user28  provider1  30-39   \n",
       "4  user71  provider2  40-49   \n",
       "\n",
       "                                                 url  \\\n",
       "0  https://www.domain763.de/panorama/id_84336484/...   \n",
       "1  https://www.domain763.de/panorama/id_84336484/...   \n",
       "2  https://dlvr.domain763.de/static/lisa/placemen...   \n",
       "3  https://www.domain235.de/testsieger/level3_far...   \n",
       "4                          https://www.domain763.de/   \n",
       "\n",
       "                                                  ua          city  \n",
       "0  Mozilla/5.0 (Linux; Android 6.0.1; SM-G903F Bu...      dortmund  \n",
       "1  Mozilla/5.0 (Linux; Android 6.0.1; SM-G903F Bu...      dortmund  \n",
       "2  Mozilla/5.0 (Windows NT 10.0; Win64; x64) Appl...  althengstett  \n",
       "3  Mozilla/5.0 (Windows NT 10.0; WOW64; Trident/7...           NaN  \n",
       "4  Mozilla/5.0 (Windows NT 10.0; WOW64; Trident/7...           NaN  "
      ]
     },
     "execution_count": 4,
     "metadata": {},
     "output_type": "execute_result"
    }
   ],
   "source": [
    "df_train.head()"
   ]
  },
  {
   "cell_type": "markdown",
   "metadata": {},
   "source": [
    "From the dataset we have the following features:\n",
    "- Independent variables: user, provider, url, ua (user agent)\n",
    "- Dependent variable: age, categorical variable of age groups: '60+', '50-59', '30-39', '40-49', '20-29'"
   ]
  },
  {
   "cell_type": "code",
   "execution_count": 5,
   "metadata": {},
   "outputs": [
    {
     "data": {
      "text/plain": [
       "user        object\n",
       "provider    object\n",
       "age         object\n",
       "url         object\n",
       "ua          object\n",
       "city        object\n",
       "dtype: object"
      ]
     },
     "execution_count": 5,
     "metadata": {},
     "output_type": "execute_result"
    }
   ],
   "source": [
    "df_train.dtypes"
   ]
  },
  {
   "cell_type": "markdown",
   "metadata": {},
   "source": [
    "At the first moment, the duplicated values were dropped from the dataframe. In thia way almost 100000 data points will not be included in the model, whose performance in the multi-class classification was really low (around 0.36 weighted f1 score). I realized that by keeping the duplicates values, the model could perfom better.  "
   ]
  },
  {
   "cell_type": "code",
   "execution_count": 6,
   "metadata": {},
   "outputs": [],
   "source": [
    "# df_train.drop_duplicates(inplace=True)"
   ]
  },
  {
   "cell_type": "markdown",
   "metadata": {},
   "source": [
    "Information about the percentage of missing values in the dataset : we can see that the feature with the highest number of missing values is represented by city. As rule, a feature is removed from the traning data when it contains 20% or more of missing values. In this case the feature is not removed because it has only 9% of missing values."
   ]
  },
  {
   "cell_type": "code",
   "execution_count": 7,
   "metadata": {},
   "outputs": [
    {
     "name": "stdout",
     "output_type": "stream",
     "text": [
      "percentage of missing values:\n",
      " user        0.0000\n",
      "provider    0.0000\n",
      "age         0.0000\n",
      "url         0.8236\n",
      "ua          0.0460\n",
      "city        9.1692\n",
      "dtype: float64\n"
     ]
    }
   ],
   "source": [
    "df_nan = df_train.isna()\n",
    "print(\"percentage of missing values:\\n\", (df_nan.sum()/len(df_nan)*100))"
   ]
  },
  {
   "cell_type": "code",
   "execution_count": 8,
   "metadata": {},
   "outputs": [
    {
     "name": "stdout",
     "output_type": "stream",
     "text": [
      "<class 'pandas.core.frame.DataFrame'>\n",
      "RangeIndex: 250000 entries, 0 to 249999\n",
      "Data columns (total 6 columns):\n",
      "user        250000 non-null object\n",
      "provider    250000 non-null object\n",
      "age         250000 non-null object\n",
      "url         247941 non-null object\n",
      "ua          249885 non-null object\n",
      "city        227077 non-null object\n",
      "dtypes: object(6)\n",
      "memory usage: 11.4+ MB\n"
     ]
    }
   ],
   "source": [
    "df_train.info()"
   ]
  },
  {
   "cell_type": "markdown",
   "metadata": {},
   "source": [
    "Age group is sorted from the smallest to the biggest age group's value"
   ]
  },
  {
   "cell_type": "code",
   "execution_count": 9,
   "metadata": {},
   "outputs": [],
   "source": [
    "order = ['20-29', '30-39', '40-49', '50-59', '60+']\n",
    "df_train['age'] = pd.Categorical(df_train['age'], order)"
   ]
  },
  {
   "cell_type": "code",
   "execution_count": 10,
   "metadata": {},
   "outputs": [],
   "source": [
    "df_train.sort_values(\"age\", inplace=True)"
   ]
  },
  {
   "cell_type": "markdown",
   "metadata": {},
   "source": [
    "The age group label is transformed to an integer. The new column is called 'integer_age'"
   ]
  },
  {
   "cell_type": "code",
   "execution_count": 11,
   "metadata": {},
   "outputs": [],
   "source": [
    "le = preprocessing.LabelEncoder()\n",
    "df_train['integer_age'] = le.fit_transform(df_train['age'])"
   ]
  },
  {
   "cell_type": "code",
   "execution_count": 12,
   "metadata": {},
   "outputs": [
    {
     "name": "stdout",
     "output_type": "stream",
     "text": [
      "{'20-29': 0, '30-39': 1, '40-49': 2, '50-59': 3, '60+': 4}\n"
     ]
    }
   ],
   "source": [
    "le_name_mapping = dict(zip(le.classes_, le.transform(le.classes_)))\n",
    "print(le_name_mapping)"
   ]
  },
  {
   "cell_type": "markdown",
   "metadata": {},
   "source": [
    "We create a dataframe of the age distribution in the web inventory for visualisation reasons."
   ]
  },
  {
   "cell_type": "code",
   "execution_count": 13,
   "metadata": {},
   "outputs": [],
   "source": [
    "age_distr_dummy = {'age':['20-29', '30-39', '40-49', '50-59', '60+'], 'percentage':[0.3, 0.3, 0.15, 0.15,0.1]}\n",
    "df_age_distr = pd.DataFrame.from_dict(age_distr_dummy)"
   ]
  },
  {
   "cell_type": "markdown",
   "metadata": {},
   "source": [
    "Three plots are displayed: \n",
    "1. The age distribution in the we inventory\n",
    "2. The age distribution for the provider 1\n",
    "3. The age distribution for the provider 2"
   ]
  },
  {
   "cell_type": "code",
   "execution_count": 14,
   "metadata": {
    "scrolled": false
   },
   "outputs": [
    {
     "data": {
      "text/plain": [
       "[Text(0,0.5,'percentage'), Text(0.5,0,'age')]"
      ]
     },
     "execution_count": 14,
     "metadata": {},
     "output_type": "execute_result"
    },
    {
     "data": {
      "image/png": "[encoded data removed]",
      "text/plain": [
       "<matplotlib.figure.Figure at 0x110ec7c88>"
      ]
     },
     "metadata": {
      "needs_background": "light"
     },
     "output_type": "display_data"
    }
   ],
   "source": [
    "f, axes = plt.subplots(3,figsize=(7, 7), sharex=True)\n",
    "xlabel = 'age'\n",
    "ylabel = 'percentage'\n",
    "sn.barplot(x=\"age\", y=\"percentage\", data=df_age_distr, ax=axes[0])\n",
    "sn.barplot(x=\"age\", y=\"integer_age\", data=df_train.loc[df_train.provider=='provider1'], \n",
    "                estimator=lambda x: len(x) / len(df_train), ax=axes[1])\n",
    "sn.barplot(x=\"age\", y=\"integer_age\", data=df_train.loc[df_train.provider=='provider2'], \n",
    "                estimator=lambda x: len(x) / len(df_train), ax=axes[2])\n",
    "axes[0].set(xlabel=xlabel, ylabel=ylabel)"
   ]
  },
  {
   "cell_type": "markdown",
   "metadata": {},
   "source": [
    "We can see that the distribution of the provider 1 is closer to the age distribution in the web inventory and for this reason, the data from provider 1 is chosen for the age group prediction. Furtheremore, since we are dealing with an imbalance dataset, the percentage of each age group in the web inventory will be used as class weights for the model. In fact, in this case the age distribution in the web inventory represents the population distribution."
   ]
  },
  {
   "cell_type": "markdown",
   "metadata": {},
   "source": [
    "# Feature creation"
   ]
  },
  {
   "cell_type": "markdown",
   "metadata": {},
   "source": [
    "From the user agent the browser, os and device type name will be parsed."
   ]
  },
  {
   "cell_type": "code",
   "execution_count": 15,
   "metadata": {},
   "outputs": [],
   "source": [
    "from ua_parser import user_agent_parser\n",
    "df_train['browser'] = df_train['ua'].apply(lambda x: \n",
    "        user_agent_parser.ParseUserAgent(x)['family'] if isinstance(x, str) else None)\n",
    "df_train['os'] = df_train['ua'].apply(lambda x: \n",
    "        user_agent_parser.ParseOS(x)['family'] if isinstance(x, str) else None)\n",
    "df_train['device'] = df_train['ua'].apply(lambda x: \n",
    "        user_agent_parser.ParseDevice(x)['family'] if isinstance(x, str) else None)"
   ]
  },
  {
   "cell_type": "markdown",
   "metadata": {},
   "source": [
    "From the user agent the url domain will be parsed."
   ]
  },
  {
   "cell_type": "code",
   "execution_count": 16,
   "metadata": {},
   "outputs": [],
   "source": [
    "import urllib\n",
    "df_train['url_domain'] = df_train.url.apply(lambda x: urllib.parse.urlsplit(x).netloc.split(\".\")[1]\n",
    "                                if isinstance(x, str) else None)"
   ]
  },
  {
   "cell_type": "markdown",
   "metadata": {},
   "source": [
    "From feature city, new features are created: region, longitude, latitude, country, population."
   ]
  },
  {
   "cell_type": "code",
   "execution_count": 17,
   "metadata": {},
   "outputs": [],
   "source": [
    "import json\n",
    "import requests\n",
    "\n",
    "def get_info_city_opendata(city):\n",
    "    \"\"\"\n",
    "    It fetches information about the city (geopoint, country, population, etc.)\n",
    "    :param city: string\n",
    "    :return: dict/None\n",
    "    if None : the city has not been found. Otherwise dictionary.\n",
    "    \"\"\"\n",
    "    tmp = 'https://public.opendatasoft.com/api/records/1.0/search/?dataset=worldcitiespop&q=%s'\n",
    "    cmd = tmp % (city)\n",
    "    res = requests.get(cmd)\n",
    "    dct = json.loads(res.content)\n",
    "    try:\n",
    "        out = dct['records'][0]['fields']\n",
    "    except:\n",
    "        out = None\n",
    "    return out"
   ]
  },
  {
   "cell_type": "markdown",
   "metadata": {},
   "source": [
    "I provided already the saved dataframe with the additional information about the city."
   ]
  },
  {
   "cell_type": "code",
   "execution_count": 18,
   "metadata": {},
   "outputs": [],
   "source": [
    "# df_city.to_csv('df_city.csv', index=False)\n",
    "filename_city = 'df_city.csv'\n",
    "df_city = load_data(filename=filename_city)"
   ]
  },
  {
   "cell_type": "code",
   "execution_count": 19,
   "metadata": {},
   "outputs": [],
   "source": [
    "# df_city = pd.DataFrame(df_train.city.dropna().unique(), columns=['raw_city_name'])\n",
    "# df_city['info_city'] = df_city.raw_city_name.apply(lambda row: get_info_city_opendata(row))\n",
    "# df_city.dropna(inplace=True)\n",
    "# for feature in ['accentcity', 'country', 'region', 'latitude', 'longitude', 'population']:\n",
    "#     df_city[feature] = df_city.info_city.apply(lambda row: \n",
    "#                     row[feature] if isinstance(row, dict) and feature in row.keys() else None)"
   ]
  },
  {
   "cell_type": "markdown",
   "metadata": {},
   "source": [
    "Based on people density, the city is defined as either village or town or city. Usually older people would live in small city or villages compared to younger people."
   ]
  },
  {
   "cell_type": "code",
   "execution_count": 20,
   "metadata": {},
   "outputs": [],
   "source": [
    "df_city['settlement_type'] = None\n",
    "df_city.loc[df_city.population<2500, 'settlement_type'] = 'village'\n",
    "df_city.loc[(df_city.population>2500) & (df_city.population<100000), 'settlement_type'] = 'town'\n",
    "df_city.loc[df_city.population>100000, 'settlement_type'] = 'city'"
   ]
  },
  {
   "cell_type": "markdown",
   "metadata": {},
   "source": [
    "Merge of additional features about the city to the original dataframe"
   ]
  },
  {
   "cell_type": "code",
   "execution_count": 21,
   "metadata": {},
   "outputs": [],
   "source": [
    "df_total = pd.merge(df_train, df_city[['city_name', 'country', 'region', 'population',\n",
    "                                       'latitude', 'longitude', 'settlement_type']], how='left',\n",
    "                                        left_on=['city'], right_on=['city_name'])"
   ]
  },
  {
   "cell_type": "markdown",
   "metadata": {},
   "source": [
    "Imputation of missing values from the dataframe."
   ]
  },
  {
   "cell_type": "code",
   "execution_count": 22,
   "metadata": {},
   "outputs": [],
   "source": [
    "df_total.dropna(inplace=True)"
   ]
  },
  {
   "cell_type": "code",
   "execution_count": 23,
   "metadata": {},
   "outputs": [
    {
     "data": {
      "text/plain": [
       "Index(['user', 'provider', 'age', 'url', 'ua', 'city', 'integer_age',\n",
       "       'browser', 'os', 'device', 'url_domain', 'city_name', 'country',\n",
       "       'region', 'population', 'latitude', 'longitude', 'settlement_type'],\n",
       "      dtype='object')"
      ]
     },
     "execution_count": 23,
     "metadata": {},
     "output_type": "execute_result"
    }
   ],
   "source": [
    "df_total.columns"
   ]
  },
  {
   "cell_type": "markdown",
   "metadata": {},
   "source": [
    "Visualization of age distributions and city type. Two remarks must be made:\n",
    "1. for city and town the distributions of age groups are really similar\n",
    "2. for settlement type village there are not observations.\n",
    "\n",
    "It must be said that I have noticed that there are many city mismatches, particularly for village."
   ]
  },
  {
   "cell_type": "code",
   "execution_count": 24,
   "metadata": {
    "scrolled": true
   },
   "outputs": [
    {
     "data": {
      "text/plain": [
       "<matplotlib.axes._subplots.AxesSubplot at 0x118bce518>"
      ]
     },
     "execution_count": 24,
     "metadata": {},
     "output_type": "execute_result"
    },
    {
     "data": {
      "image/png": "[encoded data removed]",
      "text/plain": [
       "<matplotlib.figure.Figure at 0x118bccf98>"
      ]
     },
     "metadata": {
      "needs_background": "light"
     },
     "output_type": "display_data"
    }
   ],
   "source": [
    "sn.barplot(data=df_total[['integer_age', 'settlement_type', 'age']],\n",
    "            x='settlement_type', y='integer_age', hue=\"age\",  estimator=lambda x: len(x))"
   ]
  },
  {
   "cell_type": "markdown",
   "metadata": {},
   "source": [
    "Since for the features browser, device, os and url_domain, many values have a frequency in the dataset lower than 1%, those data are replaced with the feature mode."
   ]
  },
  {
   "cell_type": "code",
   "execution_count": 25,
   "metadata": {
    "scrolled": true
   },
   "outputs": [
    {
     "name": "stdout",
     "output_type": "stream",
     "text": [
      "BlackBerry WebKit           10\n",
      "Mail.ru Chromium Browser    10\n",
      "Opera Mini                   3\n",
      "Puffin                       2\n",
      "HbbTV                        1\n",
      "Pale Moon                    1\n",
      "UC Browser                   1\n",
      "WebKit Nightly               1\n",
      "Sogou Explorer               1\n",
      "Dragon                       1\n",
      "Name: browser, dtype: int64\n",
      "Captiva PAD 10.1 Quad FHD 3G    1\n",
      "VIA_A1                          1\n",
      "SurfTab breeze 7.0 quad         1\n",
      "Micromax P024                   1\n",
      "LG-H870S                        1\n",
      "TPC-XE10D-H                     1\n",
      "Archos 70d Titanium             1\n",
      "Microsoft Lumia 532 Dual SIM    1\n",
      "TPC-XE7DW                       1\n",
      "S31                             1\n",
      "Name: device, dtype: int64\n",
      "Mac OS X          2932\n",
      "Ubuntu             346\n",
      "Linux              244\n",
      "Windows Phone      215\n",
      "Chrome OS           66\n",
      "BlackBerry OS       10\n",
      "Other                9\n",
      "Tizen                6\n",
      "Fedora               4\n",
      "Windows NT 4.0       3\n",
      "Name: os, dtype: int64\n",
      "domain612    1\n",
      "domain589    1\n",
      "domain808    1\n",
      "domain278    1\n",
      "domain761    1\n",
      "domain283    1\n",
      "domain805    1\n",
      "domain17     1\n",
      "domain259    1\n",
      "domain154    1\n",
      "Name: url_domain, dtype: int64\n"
     ]
    }
   ],
   "source": [
    "cols_low_freq = ['browser', 'device', 'os', 'url_domain']\n",
    "for col in cols_low_freq:\n",
    "    print(df_total[col].value_counts().tail(10))"
   ]
  },
  {
   "cell_type": "code",
   "execution_count": 26,
   "metadata": {},
   "outputs": [],
   "source": [
    "def replace_mode_for_low_freq(cols, df_temp, threshold=0.01):\n",
    "    \"\"\"\n",
    "    For the values with an occurrence frequency less than 1%,\n",
    "    the feature mode is replaced.\n",
    "    :param cols: list of strings\n",
    "    List of features columns.\n",
    "    :param df_temp: DataFrame\n",
    "    :param threshold: float\n",
    "    Frequency occurrence threshold. \n",
    "    :return: DataFrame\n",
    "    \"\"\"\n",
    "    for col in cols:\n",
    "        val = df_temp[col].value_counts(normalize=True)\n",
    "        y = val[val < threshold].index\n",
    "        mode_value = df_temp[col].mode()[0]\n",
    "        df_temp[col] = df_temp[col].replace({x: None for x in y})\n",
    "        df_temp[col].fillna(mode_value, inplace=True)\n",
    "    return df_temp\n",
    "\n",
    "df_total = replace_mode_for_low_freq(cols=cols_low_freq, df_temp=df_total)"
   ]
  },
  {
   "cell_type": "markdown",
   "metadata": {},
   "source": [
    "Label encoding for the categorical features chosen for the traning: ['browser', 'user', 'os', 'url_domain', 'city', 'country', 'device']"
   ]
  },
  {
   "cell_type": "code",
   "execution_count": 27,
   "metadata": {},
   "outputs": [],
   "source": [
    "categorical_features = ['browser', 'user', 'os', 'url_domain', 'city', 'country', 'device']"
   ]
  },
  {
   "cell_type": "code",
   "execution_count": 28,
   "metadata": {},
   "outputs": [],
   "source": [
    "for col in categorical_features:\n",
    "    df_total['integer_'+col] = le.fit_transform(df_total[col])"
   ]
  },
  {
   "cell_type": "markdown",
   "metadata": {},
   "source": [
    "Only transforming the labels into integers can be a bit too dangerous. Indeed the model can misunderstand the data to be in some kind of oder. So the one hot encoding usually is also used.\n",
    "One hot encoding splits the column into multiple columns. The numbers are replaced by 1s and 0s, depending on which column has what value.\n",
    "\n",
    "But since we use tree-based algorithms and one-hot encoding actually makes the performance worse. In general categorical variables are naturally disadvantaged in this case since tree-based algorithms have only a few options for splitting. The situation gets worse in variables that have a small number of levels and one-hot encoding falls in this category with just two levels. The trees generally tend to grow in one direction because at every split of a categorical variable there are only two values (0 or 1). The tree grows in the direction of zeroes in the dummy variables. And in this way we introduce sparsity which is not desirable."
   ]
  },
  {
   "cell_type": "code",
   "execution_count": 112,
   "metadata": {
    "scrolled": true
   },
   "outputs": [
    {
     "data": {
      "text/plain": [
       "Index(['user', 'provider', 'age', 'url', 'ua', 'city', 'integer_age',\n",
       "       'browser', 'os', 'device', 'url_domain', 'city_name', 'country',\n",
       "       'region', 'population', 'latitude', 'longitude', 'settlement_type',\n",
       "       'integer_browser', 'integer_user', 'integer_os', 'integer_url_domain',\n",
       "       'integer_city', 'integer_country', 'integer_device'],\n",
       "      dtype='object')"
      ]
     },
     "execution_count": 112,
     "metadata": {},
     "output_type": "execute_result"
    }
   ],
   "source": [
    "df_total.columns"
   ]
  },
  {
   "cell_type": "markdown",
   "metadata": {},
   "source": [
    "# Model selection\n",
    "Most tree based ensemble techniques are efficient for imbalanced datasets. Tree based ensemble models work by combining predictions from multiple models (trees) trained on samples from the original dataset. Hence for a given record its class label is determined based on the majority vote from the individual trees.\n",
    "\n",
    "For this reason, I have chosen random forest and extra tree classifiers. An ensemble of randomly trained decision trees make up a random forest. The most important concept of a random forest is that each randomly trained decision is randomly different from another. This is what leads to its great generalization abilities. A class of random forest is represented by the extra tree (also called extreme random forests): the main difference to the random forest is that instead of computing the locally optimal feature/split combination (for the random forest), for each feature under consideration, a random value is selected for the split (for the extra trees).\n",
    "Furthemore, the Gradient Boosting classifier has been used as well. Indeed Gradient Boosting Machines deals with class imbalance by constructing successive training sets based on incorrectly classified examples.\n",
    "\n",
    "The extra tree classifier turned out to be the most performant."
   ]
  },
  {
   "cell_type": "markdown",
   "metadata": {},
   "source": [
    "We choose to filter the data only for the provider1, for which the distribution is closer to that one from the web inventory."
   ]
  },
  {
   "cell_type": "code",
   "execution_count": 95,
   "metadata": {},
   "outputs": [],
   "source": [
    "df_prov1 = df_total.loc[df_total.provider == 'provider1']"
   ]
  },
  {
   "cell_type": "code",
   "execution_count": 96,
   "metadata": {},
   "outputs": [],
   "source": [
    "data = df_prov1[['integer_browser', 'integer_user', 'integer_os', 'integer_url_domain',\n",
    "                 'integer_city', 'integer_country', 'integer_device', \n",
    "                 'population', 'latitude', 'longitude', 'integer_age']]"
   ]
  },
  {
   "cell_type": "markdown",
   "metadata": {},
   "source": [
    "# Cross-validation\n",
    "The cross validation with 3 folds has been executed on the training set for the independent and dependent variables on the two proposed prediction models. The weighted f1 score is calculated across the three folds. The highest average of  f1 score determines which model is selected. \n",
    "\n",
    "Accuracy can be used when the class distribution is similar while F1-score is a better metric when there are imbalanced classes. In fact F1 score gives a better measure of the incorrectly classified cases.\n",
    "\n",
    "A macro-f1 score will compute the metric independently for each class (treating all classes equally), whereas a micro-f1 score will aggregate the contributions of all classes. In a multi-class classification setup, micro-metric is preferable if you suspect there might be class imbalance."
   ]
  },
  {
   "cell_type": "code",
   "execution_count": 175,
   "metadata": {},
   "outputs": [],
   "source": [
    "from sklearn.ensemble import RandomForestClassifier,  ExtraTreesClassifier, GradientBoostingClassifier\n",
    "from sklearn.model_selection import train_test_split, cross_val_score\n",
    "from sklearn.metrics import classification_report, f1_score\n",
    "from sklearn.model_selection import GridSearchCV\n",
    "import warnings\n",
    "warnings.filterwarnings(\"ignore\")"
   ]
  },
  {
   "cell_type": "code",
   "execution_count": 149,
   "metadata": {},
   "outputs": [],
   "source": [
    "X = data.drop(columns=['integer_age'], axis=1).values\n",
    "Y = data[['integer_age']].values\n",
    "\n",
    "# X_train, X_test, y_train, y_test = train_test_split(X, Y, test_size=0.3)\n",
    "cv_folds = 3\n",
    "class_weights = {0: 3.5, 1: 1, 2: 1, 3: 1, 4: 1}"
   ]
  },
  {
   "cell_type": "code",
   "execution_count": 150,
   "metadata": {},
   "outputs": [],
   "source": [
    "def train_test_km(df, target_var, test_size):\n",
    "    \"\"\"\n",
    "    The dataset is split in training and test data based on the test_size\n",
    "    The Kolmogorov-Smirnov statistics is executed to verify weather the feature\n",
    "    distributions between train and test are not significantly dissimilar.\n",
    "    :param df: pandas Dataframe\n",
    "    :param test_size: float\n",
    "    :return: numpy array, numpy array, numpy array, numpy array\n",
    "    \"\"\"\n",
    "    Y = df[target_var].values\n",
    "    df_ = df.drop(columns=target_var)\n",
    "    X = df_.values\n",
    "    X_train, X_test, y_train, y_test = train_test_split(X, Y, test_size=test_size,\n",
    "                                                        random_state=42)\n",
    "    # Kolmogorov-Smirnov statistics\n",
    "    # to check whether the data come from the same distribution\n",
    "    xtrain = pd.DataFrame(X_train, columns=df_.columns)\n",
    "    xtest = pd.DataFrame(X_test, columns=df_.columns)\n",
    "    for col in df_:\n",
    "        _, pvalue = stats.ks_2samp(xtrain[col], xtest[col])\n",
    "        if pvalue < 0.05:\n",
    "            print(\"For the feature {}, the distributions of train and test\"\n",
    "                  \"samples are significantly dissimilar with a p-value of {}.\"\n",
    "                  .format(col, str(pvalue)))\n",
    "\n",
    "    return X_train, X_test, y_train, y_test"
   ]
  },
  {
   "cell_type": "code",
   "execution_count": 152,
   "metadata": {},
   "outputs": [],
   "source": [
    "# splitting the data in train and test sets\n",
    "X_train, X_test, y_train, y_test = \\\n",
    "    train_test_km(df=data, target_var=\"integer_age\", test_size=0.30)"
   ]
  },
  {
   "cell_type": "code",
   "execution_count": 154,
   "metadata": {
    "scrolled": true
   },
   "outputs": [],
   "source": [
    "list_scores = []\n",
    "models = [RandomForestClassifier(class_weight=class_weights),\n",
    "          ExtraTreesClassifier(class_weight=class_weights),\n",
    "          GradientBoostingClassifier()]\n",
    "\n",
    "for model in models:\n",
    "    scores = cross_val_score(model, X_train, y_train,\n",
    "                             cv=cv_folds,\n",
    "                             scoring='f1_micro')\n",
    "    list_scores.append(np.mean(scores))\n",
    "chosen_model = models[list_scores.index(np.max(list_scores))]"
   ]
  },
  {
   "cell_type": "code",
   "execution_count": 155,
   "metadata": {
    "scrolled": true
   },
   "outputs": [
    {
     "name": "stdout",
     "output_type": "stream",
     "text": [
      "Highest F1 score (micro) on the training = 0.6167010657044901\n",
      "ExtraTreesClassifier(bootstrap=False,\n",
      "                     class_weight={0: 3.5, 1: 1, 2: 1, 3: 1, 4: 1},\n",
      "                     criterion='gini', max_depth=None, max_features='auto',\n",
      "                     max_leaf_nodes=None, min_impurity_decrease=0.0,\n",
      "                     min_impurity_split=None, min_samples_leaf=1,\n",
      "                     min_samples_split=2, min_weight_fraction_leaf=0.0,\n",
      "                     n_estimators='warn', n_jobs=None, oob_score=False,\n",
      "                     random_state=None, verbose=0, warm_start=False)\n"
     ]
    }
   ],
   "source": [
    "print('Highest F1 score (micro) on the training = {}'.format(str(np.max(list_scores))))\n",
    "print(chosen_model)"
   ]
  },
  {
   "cell_type": "markdown",
   "metadata": {},
   "source": [
    "# Tuning\n",
    "For the Extra Tree classifier the tuning concerns tree- and boosting-related parameters. \n",
    "\n",
    "For the tree-related paramenters we have:\n",
    "- max number of features: number of features to consider while deciding for each split\n",
    "- minimum samples of split: number of samples necessary to allow the tree split\n",
    "- minumum samples of leaf: number of samples to define a leaf\n",
    "- max tree depth: max depth to ensure no further split although the minimum sample split has been reached.\n",
    "\n",
    "For the hyperparamenters:\n",
    "- number of estimators: number of modelled trees before the prediction is made"
   ]
  },
  {
   "cell_type": "code",
   "execution_count": 156,
   "metadata": {
    "scrolled": false
   },
   "outputs": [],
   "source": [
    "# param_grid = {\n",
    "#               'n_estimators': [100, 500, 1000],\n",
    "#               'max_depth': [2, 3, 5, 7],\n",
    "#               'max_features': list(range(1,X_train.shape[1])),\n",
    "#               'min_samples_leaf': [1, 3, 5, 7, 9],\n",
    "#               'min_samples_split': [2, 4, 6, 8, 10,\n",
    "#                                     20, 40, 60, 100],\n",
    "#               'random_state': [1]\n",
    "#                 }\n",
    "# grid_search = GridSearchCV(estimator=chosen_model,\n",
    "#                            param_grid =param_grid,\n",
    "#                            cv=cv_folds,\n",
    "#                            n_jobs=-1,\n",
    "#                            verbose=1)\n",
    "# grid_search.fit(X_train, y_train)"
   ]
  },
  {
   "cell_type": "code",
   "execution_count": 157,
   "metadata": {
    "scrolled": true
   },
   "outputs": [],
   "source": [
    "# print('Best : {}, using {}'.format(grid_search.best_score_,grid_search.best_params_))"
   ]
  },
  {
   "cell_type": "code",
   "execution_count": 158,
   "metadata": {},
   "outputs": [],
   "source": [
    "# tuned_model = ExtraTreesClassifier(class_weight=class_weights, **grid_search.best_params_)"
   ]
  },
  {
   "cell_type": "code",
   "execution_count": 159,
   "metadata": {},
   "outputs": [],
   "source": [
    "tuned_model = ExtraTreesClassifier(class_weight=class_weights)"
   ]
  },
  {
   "cell_type": "code",
   "execution_count": 182,
   "metadata": {
    "scrolled": true
   },
   "outputs": [],
   "source": [
    "scores = cross_val_score(tuned_model, X_train, y_train,\n",
    "                             cv=cv_folds,\n",
    "                             scoring='f1_micro')"
   ]
  },
  {
   "cell_type": "code",
   "execution_count": 184,
   "metadata": {},
   "outputs": [
    {
     "name": "stdout",
     "output_type": "stream",
     "text": [
      "[0.61877169 0.6159081  0.61434539]\n"
     ]
    }
   ],
   "source": [
    "print(scores)"
   ]
  },
  {
   "cell_type": "code",
   "execution_count": 186,
   "metadata": {},
   "outputs": [
    {
     "name": "stdout",
     "output_type": "stream",
     "text": [
      "Average F1 score (micro) on the training = 0.6163417258519974\n"
     ]
    }
   ],
   "source": [
    "print('Average F1 score (micro) on the training = {}'.format(str(np.mean(scores))))"
   ]
  },
  {
   "cell_type": "code",
   "execution_count": 179,
   "metadata": {},
   "outputs": [],
   "source": [
    "tuned_model.fit(X_train, y_train)\n",
    "preds_tuned = tuned_model.predict(X_test)"
   ]
  },
  {
   "cell_type": "code",
   "execution_count": 181,
   "metadata": {
    "scrolled": false
   },
   "outputs": [
    {
     "name": "stdout",
     "output_type": "stream",
     "text": [
      "              precision    recall  f1-score   support\n",
      "\n",
      "           0       0.45      0.35      0.40      3261\n",
      "           1       0.73      0.78      0.75     13855\n",
      "           2       0.71      0.70      0.71      7610\n",
      "           3       0.75      0.75      0.75      7789\n",
      "           4       0.76      0.74      0.75      5649\n",
      "\n",
      "    accuracy                           0.72     38164\n",
      "   macro avg       0.68      0.66      0.67     38164\n",
      "weighted avg       0.71      0.72      0.71     38164\n",
      "\n",
      "0.7150979981134055\n"
     ]
    }
   ],
   "source": [
    "print(classification_report(y_test, preds_tuned))\n",
    "print(f1_score(y_test, preds_tuned, average='micro'))"
   ]
  },
  {
   "cell_type": "code",
   "execution_count": 1,
   "metadata": {
    "scrolled": false
   },
   "outputs": [
    {
     "ename": "NameError",
     "evalue": "name 'data' is not defined",
     "output_type": "error",
     "traceback": [
      "\u001b[0;31m---------------------------------------------------------------------------\u001b[0m",
      "\u001b[0;31mNameError\u001b[0m                                 Traceback (most recent call last)",
      "\u001b[0;32m<ipython-input-1-b59870997d79>\u001b[0m in \u001b[0;36m<module>\u001b[0;34m()\u001b[0m\n\u001b[0;32m----> 1\u001b[0;31m \u001b[0mpredictors\u001b[0m \u001b[0;34m=\u001b[0m \u001b[0mlist\u001b[0m\u001b[0;34m(\u001b[0m\u001b[0mdata\u001b[0m\u001b[0;34m.\u001b[0m\u001b[0mdrop\u001b[0m\u001b[0;34m(\u001b[0m\u001b[0mcolumns\u001b[0m\u001b[0;34m=\u001b[0m\u001b[0;34m'integer_age'\u001b[0m\u001b[0;34m)\u001b[0m\u001b[0;34m.\u001b[0m\u001b[0mcolumns\u001b[0m\u001b[0;34m)\u001b[0m\u001b[0;34m\u001b[0m\u001b[0m\n\u001b[0m\u001b[1;32m      2\u001b[0m feat_imp = pd.Series(tuned_model.coef_, \n\u001b[1;32m      3\u001b[0m                      predictors).sort_values(ascending=False)\n\u001b[1;32m      4\u001b[0m \u001b[0mfeat_imp\u001b[0m\u001b[0;34m.\u001b[0m\u001b[0mplot\u001b[0m\u001b[0;34m(\u001b[0m\u001b[0mkind\u001b[0m\u001b[0;34m=\u001b[0m\u001b[0;34m'bar'\u001b[0m\u001b[0;34m,\u001b[0m \u001b[0mtitle\u001b[0m\u001b[0;34m=\u001b[0m\u001b[0;34m'Importance of Features'\u001b[0m\u001b[0;34m)\u001b[0m\u001b[0;34m\u001b[0m\u001b[0m\n\u001b[1;32m      5\u001b[0m \u001b[0mplt\u001b[0m\u001b[0;34m.\u001b[0m\u001b[0mylabel\u001b[0m\u001b[0;34m(\u001b[0m\u001b[0;34m'Feature Importance Score'\u001b[0m\u001b[0;34m)\u001b[0m\u001b[0;34m\u001b[0m\u001b[0m\n",
      "\u001b[0;31mNameError\u001b[0m: name 'data' is not defined"
     ]
    }
   ],
   "source": [
    "predictors = list(data.drop(columns='integer_age').columns)\n",
    "feat_imp = pd.Series(tuned_model.feature_importances_, \n",
    "                     predictors).sort_values(ascending=False)\n",
    "feat_imp.plot(kind='bar', title='Importance of Features')\n",
    "plt.ylabel('Feature Importance Score')"
   ]
  },
  {
   "cell_type": "code",
   "execution_count": 108,
   "metadata": {},
   "outputs": [],
   "source": [
    "df_prov2 = df_total.loc[df_total.provider == 'provider2']\n",
    "data_prov2 = df_prov2[['integer_browser', 'integer_user', 'integer_os', 'integer_url_domain',\n",
    "                 'integer_city', 'integer_country', 'integer_device', \n",
    "                 'population', 'latitude', 'longitude', 'integer_age']]"
   ]
  },
  {
   "cell_type": "code",
   "execution_count": 109,
   "metadata": {},
   "outputs": [],
   "source": [
    "X_prov2 = data_prov2.drop(columns=['integer_age'], axis=1).values\n",
    "Y_prov2 = data_prov2[['integer_age']].values"
   ]
  },
  {
   "cell_type": "code",
   "execution_count": 110,
   "metadata": {},
   "outputs": [],
   "source": [
    "prov2_pred = tuned_model.predict(X_prov2)"
   ]
  },
  {
   "cell_type": "code",
   "execution_count": 111,
   "metadata": {
    "scrolled": false
   },
   "outputs": [
    {
     "name": "stdout",
     "output_type": "stream",
     "text": [
      "              precision    recall  f1-score   support\n",
      "\n",
      "           0       0.05      0.08      0.06      1220\n",
      "           1       0.04      0.20      0.06      1335\n",
      "           2       0.10      0.20      0.13      3968\n",
      "           3       0.28      0.28      0.28     12025\n",
      "           4       0.57      0.28      0.38     22363\n",
      "\n",
      "    accuracy                           0.27     40911\n",
      "   macro avg       0.21      0.21      0.18     40911\n",
      "weighted avg       0.41      0.27      0.31     40911\n",
      "\n",
      "0.26567426853413506\n"
     ]
    }
   ],
   "source": [
    "print(classification_report(Y_prov2, prov2_pred))\n",
    "print(f1_score(Y_prov2, prov2_pred, average='micro'))"
   ]
  },
  {
   "cell_type": "markdown",
   "metadata": {},
   "source": [
    "# Responses to questions\n",
    "\n",
    "- 3.a) The need for more data occurs in the case of high variance, which is when the error in the traning set is lower than test data. High variance is can be solved with more data or regularization methods. In this case the problem the training error is not that different from the test error but it is really high. So what we have is high bias problem, which can be solved by feature engineering but also by changing the algorithm.\n",
    "\n",
    "- 3.b) One simpler solution would be to see the distribution of the age groups and change the weights to the class 20-29; another solution would be to apply One-Vs-The-Rest classification.\n"
   ]
  }
 ],
 "metadata": {
  "kernelspec": {
   "display_name": "Python 3",
   "language": "python",
   "name": "python3"
  },
  "language_info": {
   "codemirror_mode": {
    "name": "ipython",
    "version": 3
   },
   "file_extension": ".py",
   "mimetype": "text/x-python",
   "name": "python",
   "nbconvert_exporter": "python",
   "pygments_lexer": "ipython3",
   "version": "3.6.1"
  }
 },
 "nbformat": 4,
 "nbformat_minor": 4
}
